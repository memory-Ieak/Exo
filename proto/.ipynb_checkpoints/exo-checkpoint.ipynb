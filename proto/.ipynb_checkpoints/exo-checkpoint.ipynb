{
 "cells": [
  {
   "cell_type": "code",
   "execution_count": 1,
   "metadata": {},
   "outputs": [],
   "source": [
    "import serial\n",
    "import struct\n",
    "import matplotlib.pyplot as plt\n",
    "from matplotlib.animation import FuncAnimation"
   ]
  },
  {
   "cell_type": "code",
   "execution_count": 2,
   "metadata": {},
   "outputs": [
    {
     "data": {
      "image/png": "[encoded data removed]",
      "text/plain": [
       "<Figure size 432x288 with 3 Axes>"
      ]
     },
     "metadata": {
      "needs_background": "light"
     },
     "output_type": "display_data"
    }
   ],
   "source": [
    "port = \"/dev/ttyACM0\"\n",
    "baudrate = 115200\n",
    "struct_format = '=fff'\n",
    "\n",
    "ser = serial.Serial(port, baudrate, timeout=1)\n",
    "\n",
    "data_x = []\n",
    "data_y = []\n",
    "data_z = []\n",
    "\n",
    "max_points = 50\n",
    "\n",
    "# Initialiser la figure\n",
    "fig, ax = plt.subplots(3, 1)"
   ]
  },
  {
   "cell_type": "code",
   "execution_count": null,
   "metadata": {},
   "outputs": [],
   "source": [
    "\n",
    "# Fonction d'animation\n",
    "def update(frame):\n",
    "    # Lecture de données depuis le port série\n",
    "    line = ser.readline().strip()  # Lire la ligne et supprimer les caractères de fin de ligne\n",
    "    if len(line) != 12:\n",
    "        return\n",
    "    data = struct.unpack(struct_format, line)\n",
    "\n",
    "    # Ajouter les données aux listes\n",
    "    data_x.append(data[0])\n",
    "    data_y.append(data[1])\n",
    "    data_z.append(data[2])\n",
    "\n",
    "    if len(data_x) > max_points:\n",
    "        data_x.pop(0)\n",
    "        data_y.pop(0)\n",
    "        data_z.pop(0)\n",
    "\n",
    "    # Tracer les courbes\n",
    "    ax[0].clear()\n",
    "    ax[1].clear()\n",
    "    ax[2].clear()\n",
    "\n",
    "    ax[0].plot(data_x)\n",
    "    ax[0].set_title('accX')\n",
    "\n",
    "    ax[1].plot(data_y)\n",
    "    ax[1].set_title('accY')\n",
    "\n",
    "    ax[2].plot(data_z)\n",
    "    ax[2].set_title('accZ')\n",
    "\n",
    "    plt.tight_layout()\n",
    "\n",
    "# Créer l'animation\n",
    "ani = FuncAnimation(fig, update, blit=False)\n",
    "\n",
    "# Afficher le graphique en continu\n",
    "plt.show()\n",
    "\n",
    "# Fermer le port série à la fin\n",
    "ser.close()"
   ]
  },
  {
   "cell_type": "code",
   "execution_count": null,
   "metadata": {},
   "outputs": [],
   "source": []
  }
 ],
 "metadata": {
  "kernelspec": {
   "display_name": "Python 3 (ipykernel)",
   "language": "python",
   "name": "python3"
  },
  "language_info": {
   "codemirror_mode": {
    "name": "ipython",
    "version": 3
   },
   "file_extension": ".py",
   "mimetype": "text/x-python",
   "name": "python",
   "nbconvert_exporter": "python",
   "pygments_lexer": "ipython3",
   "version": "3.8.10"
  }
 },
 "nbformat": 4,
 "nbformat_minor": 2
}
